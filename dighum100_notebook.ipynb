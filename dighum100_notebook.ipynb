{
  "nbformat": 4,
  "nbformat_minor": 0,
  "metadata": {
    "kernelspec": {
      "display_name": "Python 3",
      "language": "python",
      "name": "python3"
    },
    "language_info": {
      "codemirror_mode": {
        "name": "ipython",
        "version": 3
      },
      "file_extension": ".py",
      "mimetype": "text/x-python",
      "name": "python",
      "nbconvert_exporter": "python",
      "pygments_lexer": "ipython3",
      "version": "3.7.6"
    },
    "colab": {
      "name": "dighum100 notebook",
      "provenance": [],
      "include_colab_link": true
    }
  },
  "cells": [
    {
      "cell_type": "markdown",
      "metadata": {
        "id": "view-in-github",
        "colab_type": "text"
      },
      "source": [
        "<a href=\"https://colab.research.google.com/github/fuwentan2021/DH100-project/blob/main/dighum100_notebook.ipynb\" target=\"_parent\"><img src=\"https://colab.research.google.com/assets/colab-badge.svg\" alt=\"Open In Colab\"/></a>"
      ]
    },
    {
      "cell_type": "markdown",
      "metadata": {
        "id": "BYAq1Ryo44x_"
      },
      "source": [
        "My DH Project: How Moving Online Has Affected Students' Sleep in Non-pacific Time Zones\n",
        "\n",
        "\n",
        "Course: Digital Humanities\n",
        "\n",
        "Instructor: Adam Anderson\n",
        "\n",
        "Student: Fuwen Tan\n"
      ]
    },
    {
      "cell_type": "code",
      "metadata": {
        "id": "dWVXCnwcHrwn"
      },
      "source": [
        "from datascience import *\n",
        "import numpy as np\n",
        "import matplotlib\n",
        "%matplotlib inline\n",
        "import matplotlib.pyplot as plots\n",
        "plots.style.use('fivethirtyeight')\n",
        "import pandas as pd\n",
        "import os"
      ],
      "execution_count": null,
      "outputs": []
    },
    {
      "cell_type": "markdown",
      "metadata": {
        "id": "AtivRWCTwtgz"
      },
      "source": [
        "# Generate Data"
      ]
    },
    {
      "cell_type": "markdown",
      "metadata": {
        "id": "GsgsHzinw9q_"
      },
      "source": [
        "Dataset was generated from the survey I made for Psych133: Psychology of Sleep \n",
        "* Project in Psych133 was about a Sleep Outreach Form. We created a survey in [English](https://docs.google.com/forms/d/e/1FAIpQLSdtmY7q00ED2fhGxnQZeMuP6grQZhSFjbgpkmLuYLWH-PkPdQ/viewform) and  [Chinese](https://wj.qq.com/s2/7616138/5b53/), spread it out and informed surveyors with sleep fun facts. \n",
        "\n",
        "Responses collected from UC Berkeley students\n",
        "\n",
        "\n",
        "\n"
      ]
    },
    {
      "cell_type": "code",
      "metadata": {
        "scrolled": true,
        "colab": {
          "base_uri": "https://localhost:8080/",
          "height": 388
        },
        "id": "PKYDi_YxHrwo",
        "outputId": "c69f987d-8abd-4de9-d07f-2ea681201c7f"
      },
      "source": [
        "data_url = \"https://raw.githubusercontent.com/Sheldenshi/Sleep-Survey/main/survey_data.csv\"\n",
        "sleep = Table.read_table(data_url)\n",
        "sleep"
      ],
      "execution_count": null,
      "outputs": [
        {
          "output_type": "execute_result",
          "data": {
            "text/html": [
              "<table border=\"1\" class=\"dataframe\">\n",
              "    <thead>\n",
              "        <tr>\n",
              "            <th>Pacific Time</th> <th>Sleep Needed</th> <th>Relationship</th> <th>Sleep Time</th> <th>Sleep Hours</th> <th>Quality</th> <th>Ability</th> <th>GPA</th>\n",
              "        </tr>\n",
              "    </thead>\n",
              "    <tbody>\n",
              "        <tr>\n",
              "            <td>Y           </td> <td>6           </td> <td>P           </td> <td>1         </td> <td>8          </td> <td>3      </td> <td>3      </td> <td>3.8 </td>\n",
              "        </tr>\n",
              "        <tr>\n",
              "            <td>Y           </td> <td>7           </td> <td>P           </td> <td>2         </td> <td>7          </td> <td>4      </td> <td>5      </td> <td>3.78</td>\n",
              "        </tr>\n",
              "        <tr>\n",
              "            <td>Y           </td> <td>8           </td> <td>P           </td> <td>3         </td> <td>8          </td> <td>4      </td> <td>2      </td> <td>3.9 </td>\n",
              "        </tr>\n",
              "        <tr>\n",
              "            <td>Y           </td> <td>8           </td> <td>P           </td> <td>3         </td> <td>7          </td> <td>4      </td> <td>1      </td> <td>3.01</td>\n",
              "        </tr>\n",
              "        <tr>\n",
              "            <td>N           </td> <td>8           </td> <td>P           </td> <td>3         </td> <td>7          </td> <td>5      </td> <td>5      </td> <td>0   </td>\n",
              "        </tr>\n",
              "        <tr>\n",
              "            <td>Y           </td> <td>8           </td> <td>P           </td> <td>2         </td> <td>8          </td> <td>4      </td> <td>3      </td> <td>3.74</td>\n",
              "        </tr>\n",
              "        <tr>\n",
              "            <td>Y           </td> <td>8           </td> <td>P           </td> <td>1         </td> <td>5          </td> <td>2      </td> <td>4      </td> <td>3.7 </td>\n",
              "        </tr>\n",
              "        <tr>\n",
              "            <td>Y           </td> <td>8           </td> <td>P           </td> <td>3         </td> <td>6          </td> <td>4      </td> <td>4      </td> <td>3.3 </td>\n",
              "        </tr>\n",
              "        <tr>\n",
              "            <td>N           </td> <td>6           </td> <td>P           </td> <td>6         </td> <td>6          </td> <td>4      </td> <td>4      </td> <td>0   </td>\n",
              "        </tr>\n",
              "        <tr>\n",
              "            <td>Y           </td> <td>8           </td> <td>P           </td> <td>1.5       </td> <td>6          </td> <td>3      </td> <td>5      </td> <td>4   </td>\n",
              "        </tr>\n",
              "    </tbody>\n",
              "</table>\n",
              "<p>... (121 rows omitted)</p>"
            ],
            "text/plain": [
              "Pacific Time | Sleep Needed | Relationship | Sleep Time | Sleep Hours | Quality | Ability | GPA\n",
              "Y            | 6            | P            | 1          | 8           | 3       | 3       | 3.8\n",
              "Y            | 7            | P            | 2          | 7           | 4       | 5       | 3.78\n",
              "Y            | 8            | P            | 3          | 8           | 4       | 2       | 3.9\n",
              "Y            | 8            | P            | 3          | 7           | 4       | 1       | 3.01\n",
              "N            | 8            | P            | 3          | 7           | 5       | 5       | 0\n",
              "Y            | 8            | P            | 2          | 8           | 4       | 3       | 3.74\n",
              "Y            | 8            | P            | 1          | 5           | 2       | 4       | 3.7\n",
              "Y            | 8            | P            | 3          | 6           | 4       | 4       | 3.3\n",
              "N            | 6            | P            | 6          | 6           | 4       | 4       | 0\n",
              "Y            | 8            | P            | 1.5        | 6           | 3       | 5       | 4\n",
              "... (121 rows omitted)"
            ]
          },
          "metadata": {
            "tags": []
          },
          "execution_count": 41
        }
      ]
    },
    {
      "cell_type": "markdown",
      "metadata": {
        "id": "29Pn4U7vHrwo"
      },
      "source": [
        "# Data Breakdown"
      ]
    },
    {
      "cell_type": "code",
      "metadata": {
        "id": "SQ3uJM4IHrwo",
        "colab": {
          "base_uri": "https://localhost:8080/"
        },
        "outputId": "a417f518-eb6b-447a-94bf-5b755d17f779"
      },
      "source": [
        "sleep.num_rows"
      ],
      "execution_count": null,
      "outputs": [
        {
          "output_type": "execute_result",
          "data": {
            "text/plain": [
              "131"
            ]
          },
          "metadata": {
            "tags": []
          },
          "execution_count": 42
        }
      ]
    },
    {
      "cell_type": "markdown",
      "metadata": {
        "id": "97xtC9U3Hrwp"
      },
      "source": [
        "Number of people participated"
      ]
    },
    {
      "cell_type": "code",
      "metadata": {
        "id": "BrwZzj-dHrwp",
        "colab": {
          "base_uri": "https://localhost:8080/",
          "height": 111
        },
        "outputId": "b5131128-7b7c-41f5-f5f5-76257512a37b"
      },
      "source": [
        "sleep.group(\"Pacific Time\")"
      ],
      "execution_count": null,
      "outputs": [
        {
          "output_type": "execute_result",
          "data": {
            "text/html": [
              "<table border=\"1\" class=\"dataframe\">\n",
              "    <thead>\n",
              "        <tr>\n",
              "            <th>Pacific Time</th> <th>count</th>\n",
              "        </tr>\n",
              "    </thead>\n",
              "    <tbody>\n",
              "        <tr>\n",
              "            <td>N           </td> <td>45   </td>\n",
              "        </tr>\n",
              "        <tr>\n",
              "            <td>Y           </td> <td>86   </td>\n",
              "        </tr>\n",
              "    </tbody>\n",
              "</table>"
            ],
            "text/plain": [
              "Pacific Time | count\n",
              "N            | 45\n",
              "Y            | 86"
            ]
          },
          "metadata": {
            "tags": []
          },
          "execution_count": 43
        }
      ]
    },
    {
      "cell_type": "markdown",
      "metadata": {
        "id": "GcQrzDJDHrwp"
      },
      "source": [
        "Number of participants in Pacific Time zone and Non-Pacific Time zone"
      ]
    },
    {
      "cell_type": "markdown",
      "metadata": {
        "id": "q8QMr_3eHrwp"
      },
      "source": [
        "# Data Interpretation"
      ]
    },
    {
      "cell_type": "code",
      "metadata": {
        "id": "H9D0zDuAHrwp",
        "colab": {
          "base_uri": "https://localhost:8080/",
          "height": 142
        },
        "outputId": "201301a3-6994-412c-d4ea-cd2c0614d713"
      },
      "source": [
        "sleep.group(\"Relationship\")"
      ],
      "execution_count": null,
      "outputs": [
        {
          "output_type": "execute_result",
          "data": {
            "text/html": [
              "<table border=\"1\" class=\"dataframe\">\n",
              "    <thead>\n",
              "        <tr>\n",
              "            <th>Relationship</th> <th>count</th>\n",
              "        </tr>\n",
              "    </thead>\n",
              "    <tbody>\n",
              "        <tr>\n",
              "            <td>N           </td> <td>2    </td>\n",
              "        </tr>\n",
              "        <tr>\n",
              "            <td>NO          </td> <td>10   </td>\n",
              "        </tr>\n",
              "        <tr>\n",
              "            <td>P           </td> <td>119  </td>\n",
              "        </tr>\n",
              "    </tbody>\n",
              "</table>"
            ],
            "text/plain": [
              "Relationship | count\n",
              "N            | 2\n",
              "NO           | 10\n",
              "P            | 119"
            ]
          },
          "metadata": {
            "tags": []
          },
          "execution_count": 44
        }
      ]
    },
    {
      "cell_type": "markdown",
      "metadata": {
        "id": "IJ91R0XRHrwq"
      },
      "source": [
        "119 out of 131 people think that there is a positive relationship between sleep and academic performance"
      ]
    },
    {
      "cell_type": "code",
      "metadata": {
        "id": "wainDuxgHrwq",
        "colab": {
          "base_uri": "https://localhost:8080/"
        },
        "outputId": "ea418c08-aa5d-47a9-e27d-e85029abe5cd"
      },
      "source": [
        "#sleep needed\n",
        "np.mean(sleep.column(1))"
      ],
      "execution_count": null,
      "outputs": [
        {
          "output_type": "execute_result",
          "data": {
            "text/plain": [
              "7.66412213740458"
            ]
          },
          "metadata": {
            "tags": []
          },
          "execution_count": 45
        }
      ]
    },
    {
      "cell_type": "markdown",
      "metadata": {
        "id": "jIAwWD5gHrwq"
      },
      "source": [
        "On average people think humans need 7.66 hours/day"
      ]
    },
    {
      "cell_type": "code",
      "metadata": {
        "id": "SZ32gMoAHrwq",
        "colab": {
          "base_uri": "https://localhost:8080/"
        },
        "outputId": "413d4a93-ab72-47e6-ef31-9a53b93ebc7d"
      },
      "source": [
        "#sleep time\n",
        "np.mean(sleep.column(3))"
      ],
      "execution_count": null,
      "outputs": [
        {
          "output_type": "execute_result",
          "data": {
            "text/plain": [
              "2.236641221374046"
            ]
          },
          "metadata": {
            "tags": []
          },
          "execution_count": 46
        }
      ]
    },
    {
      "cell_type": "markdown",
      "metadata": {
        "id": "YetDRlDfHrwq"
      },
      "source": [
        "On Average students went to bed at 2.23 AM"
      ]
    },
    {
      "cell_type": "code",
      "metadata": {
        "id": "oImvIOAdHrwr"
      },
      "source": [
        "new = sleep.with_column(\"Get Up\", sleep.column(3) + sleep.column(4))"
      ],
      "execution_count": null,
      "outputs": []
    },
    {
      "cell_type": "code",
      "metadata": {
        "id": "3dSPGAjZHrwr",
        "colab": {
          "base_uri": "https://localhost:8080/"
        },
        "outputId": "13157178-c01b-46e8-805c-e407592f62bd"
      },
      "source": [
        "#Get Up Difference\n",
        "np.mean(new.where(\"Pacific Time\", are.equal_to(\"Y\")).column(\"Get Up\")),np.mean(new.where(\"Pacific Time\", are.equal_to(\"N\")).column(\"Get Up\"))"
      ],
      "execution_count": null,
      "outputs": [
        {
          "output_type": "execute_result",
          "data": {
            "text/plain": [
              "(8.63953488372093, 9.766666666666667)"
            ]
          },
          "metadata": {
            "tags": []
          },
          "execution_count": 48
        }
      ]
    },
    {
      "cell_type": "markdown",
      "metadata": {
        "id": "lY3nMRbtHrwr"
      },
      "source": [
        "Average wake up time <br>\n",
        "Pacific Time:8:37 AM (student's local time) <br>\n",
        "Non-Pacific Time:9:45 AM (student's local time) <br>"
      ]
    },
    {
      "cell_type": "code",
      "metadata": {
        "id": "Vu-iEIfRHrwr",
        "colab": {
          "base_uri": "https://localhost:8080/"
        },
        "outputId": "3604ed39-cfd6-4e5f-dcd3-03d0adad59c9"
      },
      "source": [
        "#sleep time difference\n",
        "pacific = sleep.where(\"Pacific Time\", are.equal_to(\"Y\"))\n",
        "no_pacific = sleep.where(\"Pacific Time\", are.equal_to(\"N\"))\n",
        "np.mean(pacific.column(3)), np.mean(no_pacific.column(3))"
      ],
      "execution_count": null,
      "outputs": [
        {
          "output_type": "execute_result",
          "data": {
            "text/plain": [
              "(1.5988372093023255, 3.4555555555555557)"
            ]
          },
          "metadata": {
            "tags": []
          },
          "execution_count": 49
        }
      ]
    },
    {
      "cell_type": "markdown",
      "metadata": {
        "id": "oTN6kP5MHrws"
      },
      "source": [
        "Average bedtime<br>\n",
        "Pacific Time:1:35 AM (student's local time)<br>\n",
        "Non-Pacific Time:3:25 AM (student's local time) "
      ]
    },
    {
      "cell_type": "code",
      "metadata": {
        "id": "ZmKbMs7QHrwr",
        "colab": {
          "base_uri": "https://localhost:8080/"
        },
        "outputId": "665bebf4-9dde-4534-f9d9-08c300910501"
      },
      "source": [
        "def gpamean(t, x):\n",
        "    return np.average(t.column(x))\n",
        "\n",
        "pacific_gpa = pacific.where(\"GPA\", are.above (1))\n",
        "shuffled = pacific_gpa.sample(with_replacement = False)\n",
        "repetition = 1000\n",
        "mean_gpa = make_array()\n",
        "\n",
        "for i in np.arange(repetition):\n",
        "    simulation = shuffled.sample(37, with_replacement = True)\n",
        "    mean_gpa = np.append(mean_gpa, gpamean(simulation, 7))\n",
        "       \n",
        "lower = percentile(2.5, mean_gpa)\n",
        "upper = percentile(97.5, mean_gpa)\n",
        "round(lower,4), round(upper,4)"
      ],
      "execution_count": null,
      "outputs": [
        {
          "output_type": "execute_result",
          "data": {
            "text/plain": [
              "(3.5662, 3.7389)"
            ]
          },
          "metadata": {
            "tags": []
          },
          "execution_count": 62
        }
      ]
    },
    {
      "cell_type": "code",
      "metadata": {
        "id": "_qKbyEzuHrwr",
        "colab": {
          "base_uri": "https://localhost:8080/"
        },
        "outputId": "906e44c6-754a-4b53-f80e-e0c70534417e"
      },
      "source": [
        "repetition = 1000\n",
        "mean_gpa_ = make_array()\n",
        "no_pacific_gpa = no_pacific.where(\"GPA\", are.above (1))\n",
        "shuffled_ = no_pacific_gpa.sample(with_replacement = False)\n",
        "\n",
        "for i in np.arange(repetition):\n",
        "    simulation_ = shuffled_.sample(with_replacement = True)\n",
        "    mean_gpa_ = np.append(mean_gpa_, gpamean(simulation_, 7))  \n",
        "    \n",
        "lower = percentile(2.5, mean_gpa_)\n",
        "upper = percentile(97.5, mean_gpa_)\n",
        "round(lower,4), round(upper,4)"
      ],
      "execution_count": null,
      "outputs": [
        {
          "output_type": "execute_result",
          "data": {
            "text/plain": [
              "(3.4762, 3.6941)"
            ]
          },
          "metadata": {
            "tags": []
          },
          "execution_count": 64
        }
      ]
    },
    {
      "cell_type": "code",
      "metadata": {
        "id": "6rtHfETCHrwr",
        "colab": {
          "base_uri": "https://localhost:8080/",
          "height": 421
        },
        "outputId": "967c96fb-2236-43e4-a2a4-7bf10a1919a5"
      },
      "source": [
        "histbin = np.arange(3.4, 3.9, 0.01)\n",
        "Table().with_columns(\"Pacific GPA\", mean_gpa, \"Non-Pacific GPA\", mean_gpa_).hist(bins = histbin)"
      ],
      "execution_count": null,
      "outputs": [
        {
          "output_type": "display_data",
          "data": {
            "image/png": "[encoded data removed]",
            "text/plain": [
              "<Figure size 432x288 with 1 Axes>"
            ]
          },
          "metadata": {
            "tags": []
          }
        }
      ]
    },
    {
      "cell_type": "markdown",
      "metadata": {
        "id": "LEA7LN7DHrwr"
      },
      "source": [
        "Cal students who are in Pacific time tend to have higher average GPA than Non-Pacific students according to bootstrap test."
      ]
    },
    {
      "cell_type": "code",
      "metadata": {
        "id": "Bu4knm8kHrws",
        "colab": {
          "base_uri": "https://localhost:8080/"
        },
        "outputId": "8f7da798-b36b-4789-f2b3-d57d7744ca19"
      },
      "source": [
        "#sleep hours\n",
        "np.mean(sleep.column(4))"
      ],
      "execution_count": null,
      "outputs": [
        {
          "output_type": "execute_result",
          "data": {
            "text/plain": [
              "6.790076335877862"
            ]
          },
          "metadata": {
            "tags": []
          },
          "execution_count": 14
        }
      ]
    },
    {
      "cell_type": "markdown",
      "metadata": {
        "id": "tOzwHZOEHrws"
      },
      "source": [
        "Average hours of sleep (all students)"
      ]
    },
    {
      "cell_type": "code",
      "metadata": {
        "id": "gm5M7dzaHrws",
        "colab": {
          "base_uri": "https://localhost:8080/"
        },
        "outputId": "b1db87f2-6a04-48cf-f27a-fe6c6cdd9b4d"
      },
      "source": [
        "#sleep hours difference\n",
        "np.mean(pacific.column(4)), np.mean(no_pacific.column(4))"
      ],
      "execution_count": null,
      "outputs": [
        {
          "output_type": "execute_result",
          "data": {
            "text/plain": [
              "(7.040697674418604, 6.311111111111111)"
            ]
          },
          "metadata": {
            "tags": []
          },
          "execution_count": 15
        }
      ]
    },
    {
      "cell_type": "markdown",
      "metadata": {
        "id": "lybBDU33Hrws"
      },
      "source": [
        "Average hours of sleep:<br>\n",
        "Pacific time: 7 hours<br>\n",
        "Non-Pacific time: 6.3 hours"
      ]
    },
    {
      "cell_type": "code",
      "metadata": {
        "id": "QANJ5SycHrws",
        "colab": {
          "base_uri": "https://localhost:8080/"
        },
        "outputId": "b9b78c84-9731-48c1-ddbb-131a8d47a8e5"
      },
      "source": [
        "#quality\n",
        "np.mean(sleep.column(5))"
      ],
      "execution_count": null,
      "outputs": [
        {
          "output_type": "execute_result",
          "data": {
            "text/plain": [
              "3.1068702290076335"
            ]
          },
          "metadata": {
            "tags": []
          },
          "execution_count": 16
        }
      ]
    },
    {
      "cell_type": "markdown",
      "metadata": {
        "id": "xGnoN5qyHrws"
      },
      "source": [
        "Average sleep quality (all students on a scale of 1-5 self-rated)"
      ]
    },
    {
      "cell_type": "code",
      "metadata": {
        "id": "Z34Hg7XaHrws",
        "colab": {
          "base_uri": "https://localhost:8080/"
        },
        "outputId": "b4537b17-8007-4bef-f60a-9260f5dd003d"
      },
      "source": [
        "#quality difference\n",
        "np.mean(pacific.column(5)), np.mean(no_pacific.column(5))"
      ],
      "execution_count": null,
      "outputs": [
        {
          "output_type": "execute_result",
          "data": {
            "text/plain": [
              "(3.4069767441860463, 2.533333333333333)"
            ]
          },
          "metadata": {
            "tags": []
          },
          "execution_count": 17
        }
      ]
    },
    {
      "cell_type": "markdown",
      "metadata": {
        "id": "qt_BVXmdHrws"
      },
      "source": [
        "Average sleep quality:<br>\n",
        "Pacific time: 3.4 <br>\n",
        "Non-Pacific time: 2.53"
      ]
    },
    {
      "cell_type": "code",
      "metadata": {
        "id": "SLgK-v-RHrws",
        "colab": {
          "base_uri": "https://localhost:8080/"
        },
        "outputId": "48f0ccc3-ea16-4dfe-9074-5436557221d6"
      },
      "source": [
        "#ability\n",
        "np.mean(sleep.column(6))"
      ],
      "execution_count": null,
      "outputs": [
        {
          "output_type": "execute_result",
          "data": {
            "text/plain": [
              "3.0839694656488548"
            ]
          },
          "metadata": {
            "tags": []
          },
          "execution_count": 18
        }
      ]
    },
    {
      "cell_type": "markdown",
      "metadata": {
        "id": "cxIzWW0_Hrws"
      },
      "source": [
        "Average ability to sleep (all students on a scale of 1-5 self-rated)"
      ]
    },
    {
      "cell_type": "code",
      "metadata": {
        "id": "R-WWEL4pHrws",
        "colab": {
          "base_uri": "https://localhost:8080/"
        },
        "outputId": "2a5a2990-46c8-4177-f82e-b12c28dd7337"
      },
      "source": [
        "#ability difference\n",
        "np.mean(pacific.column(6)), np.mean(no_pacific.column(6))"
      ],
      "execution_count": null,
      "outputs": [
        {
          "output_type": "execute_result",
          "data": {
            "text/plain": [
              "(3.244186046511628, 2.7777777777777777)"
            ]
          },
          "metadata": {
            "tags": []
          },
          "execution_count": 19
        }
      ]
    },
    {
      "cell_type": "markdown",
      "metadata": {
        "id": "FvSk5F6EHrws"
      },
      "source": [
        "Average ability to sleep:<br>\n",
        "Pacific time: 3.2 <br>\n",
        "Non-Pacific time: 2.77"
      ]
    },
    {
      "cell_type": "code",
      "metadata": {
        "id": "TX6-5kNIHrws",
        "colab": {
          "base_uri": "https://localhost:8080/"
        },
        "outputId": "ec9a4a05-d284-4fee-ac45-2688ab7ccfed"
      },
      "source": [
        "#GPA\n",
        "gpa = sleep.where(\"GPA\", are.above(1))\n",
        "np.mean(gpa.column(7))"
      ],
      "execution_count": null,
      "outputs": [
        {
          "output_type": "execute_result",
          "data": {
            "text/plain": [
              "3.636944444444444"
            ]
          },
          "metadata": {
            "tags": []
          },
          "execution_count": 20
        }
      ]
    },
    {
      "cell_type": "markdown",
      "metadata": {
        "id": "1Blp-4IVHrws"
      },
      "source": [
        "Average GPA of all students"
      ]
    },
    {
      "cell_type": "code",
      "metadata": {
        "id": "4iKtUisSHrws",
        "colab": {
          "base_uri": "https://localhost:8080/"
        },
        "outputId": "40604d7c-9b2e-4fc5-93a4-ab00d325f065"
      },
      "source": [
        "#GPA difference\n",
        "np.mean(gpa.where(\"Pacific Time\", are.equal_to(\"Y\")).column(7)), np.mean(gpa.where(\"Pacific Time\", are.equal_to(\"N\")).column(7))"
      ],
      "execution_count": null,
      "outputs": [
        {
          "output_type": "execute_result",
          "data": {
            "text/plain": [
              "(3.6592957746478874, 3.594054054054054)"
            ]
          },
          "metadata": {
            "tags": []
          },
          "execution_count": 21
        }
      ]
    },
    {
      "cell_type": "markdown",
      "metadata": {
        "id": "44zyYTJ-Hrws"
      },
      "source": [
        "Average GPA:<br>\n",
        "Pacific time: 3.66 <br>\n",
        "Non-Pacific time: 3.59"
      ]
    },
    {
      "cell_type": "code",
      "metadata": {
        "id": "8OdFLyYyHrws",
        "colab": {
          "base_uri": "https://localhost:8080/"
        },
        "outputId": "ac24b28d-0187-47d3-e2d0-3fce9b646687"
      },
      "source": [
        "#sleep time for high GPA, sleep time for low GPA\n",
        "gpa1 = gpa.where(\"GPA\", are.above(3.60))\n",
        "gpa2 = gpa.where(\"GPA\", are.below(3.60))\n",
        "np.mean(gpa1.column(3)), np.mean(gpa2.column(3))"
      ],
      "execution_count": null,
      "outputs": [
        {
          "output_type": "execute_result",
          "data": {
            "text/plain": [
              "(1.791044776119403, 2.4722222222222223)"
            ]
          },
          "metadata": {
            "tags": []
          },
          "execution_count": 22
        }
      ]
    },
    {
      "cell_type": "markdown",
      "metadata": {
        "id": "YMrfhJFpHrws"
      },
      "source": [
        "Student who has GPA above 3.6 went to bed at 1:47 AM on average<br>\n",
        "Student who has GPA below 3.6 went to bed at 2:30 AM on average<br>"
      ]
    },
    {
      "cell_type": "code",
      "metadata": {
        "id": "VR3088XTHrws",
        "colab": {
          "base_uri": "https://localhost:8080/"
        },
        "outputId": "7cc6f9e4-89ab-4e86-ac63-96c49ddbb9b2"
      },
      "source": [
        "#sleep hours for high GPA, sleep hours for low GPA\n",
        "np.mean(gpa1.column(4)), np.mean(gpa2.column(4))"
      ],
      "execution_count": null,
      "outputs": [
        {
          "output_type": "execute_result",
          "data": {
            "text/plain": [
              "(7.029850746268656, 6.680555555555555)"
            ]
          },
          "metadata": {
            "tags": []
          },
          "execution_count": 23
        }
      ]
    },
    {
      "cell_type": "markdown",
      "metadata": {
        "id": "xnu7l-niHrws"
      },
      "source": [
        "Student who has GPA above 3.6 on average slept 7 hours a night this past semester<br>\n",
        "Student who has GPA below 3.6 on average slept 6.68 hours a night this past semester<br>"
      ]
    },
    {
      "cell_type": "code",
      "metadata": {
        "id": "sAwoeRyfHrws",
        "colab": {
          "base_uri": "https://localhost:8080/"
        },
        "outputId": "8c2b4ad7-1e2e-4a9a-9b1b-2bfec2fad98d"
      },
      "source": [
        "#quality for high GPA, quality for low GP\n",
        "np.mean(gpa1.column(5)), np.mean(gpa2.column(5))"
      ],
      "execution_count": null,
      "outputs": [
        {
          "output_type": "execute_result",
          "data": {
            "text/plain": [
              "(3.2388059701492535, 2.8333333333333335)"
            ]
          },
          "metadata": {
            "tags": []
          },
          "execution_count": 24
        }
      ]
    },
    {
      "cell_type": "markdown",
      "metadata": {
        "id": "jlbuD8a6Hrwt"
      },
      "source": [
        "Students with higher GPA reported higher sleep quality"
      ]
    },
    {
      "cell_type": "code",
      "metadata": {
        "id": "num3uu1UHrwt",
        "colab": {
          "base_uri": "https://localhost:8080/"
        },
        "outputId": "af0a4932-25ef-4de6-8004-b35c34c9d859"
      },
      "source": [
        "#ability for high GPA, ability for low GPA\n",
        "np.mean(gpa1.column(6)),np.mean(gpa2.column(6))"
      ],
      "execution_count": null,
      "outputs": [
        {
          "output_type": "execute_result",
          "data": {
            "text/plain": [
              "(3.1492537313432836, 2.9722222222222223)"
            ]
          },
          "metadata": {
            "tags": []
          },
          "execution_count": 25
        }
      ]
    },
    {
      "cell_type": "markdown",
      "metadata": {
        "id": "BvudZ2zXHrwt"
      },
      "source": [
        "Students with higher GPA reported better ability to fall asleep"
      ]
    },
    {
      "cell_type": "code",
      "metadata": {
        "id": "7x0IqNlyHrwt",
        "colab": {
          "base_uri": "https://localhost:8080/",
          "height": 282
        },
        "outputId": "c3194909-f613-48f2-b7af-e6154d9cb664"
      },
      "source": [
        "sleep.relabel(\"Sleep Hours\", \"Sleep Received\").hist(\"Sleep Needed\", \"Sleep Received\")"
      ],
      "execution_count": null,
      "outputs": [
        {
          "output_type": "display_data",
          "data": {
            "image/png": "[encoded data removed]",
            "text/plain": [
              "<Figure size 432x288 with 1 Axes>"
            ]
          },
          "metadata": {
            "tags": []
          }
        }
      ]
    },
    {
      "cell_type": "markdown",
      "metadata": {
        "id": "bJ7cvEnwHrwt"
      },
      "source": [
        "Amount of sleep students think they need VS amount of sleep received for the past semester."
      ]
    },
    {
      "cell_type": "code",
      "metadata": {
        "id": "EE_SoA2xHrwt",
        "colab": {
          "base_uri": "https://localhost:8080/",
          "height": 282
        },
        "outputId": "5a5c515c-2fed-46f8-9efa-119287017667"
      },
      "source": [
        "sleep.hist(\"Quality\",\"Ability\")"
      ],
      "execution_count": null,
      "outputs": [
        {
          "output_type": "display_data",
          "data": {
            "image/png": "[encoded data removed]",
            "text/plain": [
              "<Figure size 432x288 with 1 Axes>"
            ]
          },
          "metadata": {
            "tags": []
          }
        }
      ]
    },
    {
      "cell_type": "code",
      "metadata": {
        "id": "C6glK52cHrwn"
      },
      "source": [
        "def standard_units(any_numbers):\n",
        "    return (any_numbers - np.mean(any_numbers))/np.std(any_numbers) \n",
        "  \n",
        "def correlation(t, label_x, label_y):\n",
        "    return np.mean(standard_units(t.column(label_x))*standard_units(t.column(label_y)))\n",
        "\n",
        "def slope(t, label_x, label_y):\n",
        "    r = correlation(t, label_x, label_y)\n",
        "    return r*np.std(t.column(label_y))/np.std(t.column(label_x))\n",
        "\n",
        "def intercept(t, label_x, label_y):\n",
        "    return np.mean(t.column(label_y)) - slope(t, label_x, label_y)\n",
        "\n",
        "def fit(table, x, y):\n",
        "    a = slope(table, x, y)\n",
        "    b = intercept(table, x, y)\n",
        "    return a * table.column(x) + b\n",
        "                                              \n",
        "def residual(table, x, y):\n",
        "    return table.column(y) - fit(table, x, y)\n",
        "\n",
        "def scatter_fit(table, x, y):\n",
        "    table.scatter(x, y, s=15)\n",
        "    plots.plot(table.column(x), fit(table, x, y), lw=4, color='gold')\n",
        "    plots.xlabel(x)\n",
        "    plots.ylabel(y)                             \n",
        "    \n",
        "def residual_plot(table, x, y):\n",
        "    x_array = table.column(x)\n",
        "    t = Table().with_columns(\n",
        "            x, x_array,\n",
        "            'residuals', residual(table, x, y)\n",
        "        )\n",
        "    t.scatter(x, 'residuals', color='r')\n",
        "    xlims = make_array(min(x_array), max(x_array))\n",
        "    plots.plot(xlims, make_array(0, 0), color='darkblue', lw=4)\n",
        "    plots.title('Residual Plot')\n",
        "    \n"
      ],
      "execution_count": null,
      "outputs": []
    },
    {
      "cell_type": "code",
      "metadata": {
        "id": "g78TItL5Hrwt",
        "colab": {
          "base_uri": "https://localhost:8080/",
          "height": 359
        },
        "outputId": "28109d8b-b0f1-4f43-d158-1e0e19010476"
      },
      "source": [
        "scatter_fit(gpa, \"Sleep Time\", \"GPA\")"
      ],
      "execution_count": null,
      "outputs": [
        {
          "output_type": "display_data",
          "data": {
            "image/png": "[encoded data removed]",
            "text/plain": [
              "<Figure size 360x360 with 1 Axes>"
            ]
          },
          "metadata": {
            "tags": []
          }
        }
      ]
    },
    {
      "cell_type": "code",
      "metadata": {
        "id": "O8SdFYDXHrwt",
        "colab": {
          "base_uri": "https://localhost:8080/"
        },
        "outputId": "8d76323f-9c14-4cc6-a18b-9c0d7d014e1b"
      },
      "source": [
        "print(correlation(gpa, \"Sleep Time\", \"GPA\"))"
      ],
      "execution_count": null,
      "outputs": [
        {
          "output_type": "stream",
          "text": [
            "-0.13316869261206643\n"
          ],
          "name": "stdout"
        }
      ]
    },
    {
      "cell_type": "markdown",
      "metadata": {
        "id": "LZo_XGUGHrwt"
      },
      "source": [
        "There is a negative correlation between bedtime(hours from 10 pm) and GPA, with a 0.133 r-value."
      ]
    },
    {
      "cell_type": "code",
      "metadata": {
        "scrolled": true,
        "id": "M-6kPiJpHrwt",
        "colab": {
          "base_uri": "https://localhost:8080/",
          "height": 359
        },
        "outputId": "e4150b5f-209b-4cc0-8416-115d2bef4d60"
      },
      "source": [
        "scatter_fit(gpa, \"Sleep Hours\", \"GPA\")"
      ],
      "execution_count": null,
      "outputs": [
        {
          "output_type": "display_data",
          "data": {
            "image/png": "[encoded data removed]",
            "text/plain": [
              "<Figure size 360x360 with 1 Axes>"
            ]
          },
          "metadata": {
            "tags": []
          }
        }
      ]
    },
    {
      "cell_type": "code",
      "metadata": {
        "id": "IWd5A4MlHrwt",
        "colab": {
          "base_uri": "https://localhost:8080/"
        },
        "outputId": "87e73f26-1422-4622-9098-f4558f39c5a0"
      },
      "source": [
        "print(correlation(gpa, \"Sleep Hours\", \"GPA\"))"
      ],
      "execution_count": null,
      "outputs": [
        {
          "output_type": "stream",
          "text": [
            "0.024583184465485384\n"
          ],
          "name": "stdout"
        }
      ]
    },
    {
      "cell_type": "markdown",
      "metadata": {
        "id": "8oLm1PsyHrwt"
      },
      "source": [
        "This data did not show a correlation between hours of sleep and GPA since we have a 0.02 r-value."
      ]
    }
  ]
}